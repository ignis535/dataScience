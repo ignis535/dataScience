{
 "cells": [
  {
   "cell_type": "code",
   "execution_count": 2,
   "id": "9656fd20",
   "metadata": {},
   "outputs": [],
   "source": [
    "import pandas as pd\n",
    "import numpy as np"
   ]
  },
  {
   "cell_type": "code",
   "execution_count": 3,
   "id": "8b7572cd",
   "metadata": {},
   "outputs": [],
   "source": [
    "# 한 셀에서 복수개의 출력을 가능하게 한다.\n",
    "from IPython.core.interactiveshell import InteractiveShell\n",
    "InteractiveShell.ast_node_interactivity = \"all\""
   ]
  },
  {
   "cell_type": "code",
   "execution_count": 15,
   "id": "73dcca10",
   "metadata": {},
   "outputs": [],
   "source": [
    "# 소숫점 셋째자리까지 출력\n",
    "pd.set_option('display.float_format', lambda x : \"%0.3f\" % x)"
   ]
  },
  {
   "cell_type": "code",
   "execution_count": 5,
   "id": "5d501259",
   "metadata": {},
   "outputs": [],
   "source": [
    "# 모든 column 출력\n",
    "pd.set_option('max_columns', None)"
   ]
  },
  {
   "cell_type": "markdown",
   "id": "c16b281a",
   "metadata": {},
   "source": [
    "# `Series` Data type"
   ]
  },
  {
   "cell_type": "markdown",
   "id": "12218f6d",
   "metadata": {},
   "source": [
    "* 문자열로 인덱싱이 가능하다."
   ]
  },
  {
   "cell_type": "markdown",
   "id": "cfe6f748",
   "metadata": {},
   "source": [
    "* 한가지 data type만 가질 수 있다."
   ]
  },
  {
   "cell_type": "code",
   "execution_count": 2,
   "id": "855dccfd",
   "metadata": {},
   "outputs": [],
   "source": [
    "import pandas as pd"
   ]
  },
  {
   "cell_type": "code",
   "execution_count": 3,
   "id": "b79c0720",
   "metadata": {},
   "outputs": [
    {
     "data": {
      "text/plain": [
       "0    1\n",
       "1    2\n",
       "2    3\n",
       "3    4\n",
       "dtype: int64"
      ]
     },
     "execution_count": 3,
     "metadata": {},
     "output_type": "execute_result"
    }
   ],
   "source": [
    "# 기본 인덱스로 0, 1, 2, 3 ...을 사용\n",
    "a = pd.Series([1, 2, 3, 4])\n",
    "a"
   ]
  },
  {
   "cell_type": "code",
   "execution_count": 17,
   "id": "1ed7eb40",
   "metadata": {},
   "outputs": [
    {
     "data": {
      "text/plain": [
       "a    1\n",
       "b    2\n",
       "c    3\n",
       "d    4\n",
       "dtype: int64"
      ]
     },
     "execution_count": 17,
     "metadata": {},
     "output_type": "execute_result"
    }
   ],
   "source": [
    "# 리스트로 Series 객체 생성\n",
    "a = pd.Series(\n",
    "    [1, 2, 3, 4],\n",
    "    index = ['a', 'b', 'c', 'd']\n",
    ")\n",
    "a"
   ]
  },
  {
   "cell_type": "code",
   "execution_count": 5,
   "id": "b7b901dc",
   "metadata": {},
   "outputs": [
    {
     "data": {
      "text/plain": [
       "a    1\n",
       "b    2\n",
       "c    3\n",
       "d    4\n",
       "dtype: int64"
      ]
     },
     "execution_count": 5,
     "metadata": {},
     "output_type": "execute_result"
    }
   ],
   "source": [
    "# 딕셔너리로 Series 객체 생성\n",
    "a = pd.Series(\n",
    "    {'a' : 1,\n",
    "     'b' : 2,\n",
    "     'c' : 3,\n",
    "     'd' : 4}\n",
    ")\n",
    "a"
   ]
  },
  {
   "cell_type": "code",
   "execution_count": 6,
   "id": "a5f259cd",
   "metadata": {},
   "outputs": [
    {
     "data": {
      "text/plain": [
       "a    1\n",
       "b    2\n",
       "c    3\n",
       "d    4\n",
       "dtype: int64"
      ]
     },
     "execution_count": 6,
     "metadata": {},
     "output_type": "execute_result"
    }
   ],
   "source": [
    "# shift + tap으로 함수에 대한 설명을 볼 수 있다.\n",
    "a.head()"
   ]
  },
  {
   "cell_type": "markdown",
   "id": "c35725fc",
   "metadata": {},
   "source": [
    "## `nan`과 관련된 함수"
   ]
  },
  {
   "cell_type": "markdown",
   "id": "5fdab6ac",
   "metadata": {},
   "source": [
    "* 일반적으로 nan을 제외하고 연산을 수행하지만 unique() 메서드는 포함하여 연산한다."
   ]
  },
  {
   "cell_type": "code",
   "execution_count": 7,
   "id": "3f7d9930",
   "metadata": {},
   "outputs": [],
   "source": [
    "import numpy as np"
   ]
  },
  {
   "cell_type": "code",
   "execution_count": 9,
   "id": "d63c786b",
   "metadata": {},
   "outputs": [
    {
     "data": {
      "text/plain": [
       "nan"
      ]
     },
     "execution_count": 9,
     "metadata": {},
     "output_type": "execute_result"
    }
   ],
   "source": [
    "# nan은 numpy에서 정의되어 있다.\n",
    "np.nan"
   ]
  },
  {
   "cell_type": "code",
   "execution_count": 11,
   "id": "69b44fb8",
   "metadata": {},
   "outputs": [
    {
     "data": {
      "text/plain": [
       "0    10.0\n",
       "1     9.0\n",
       "2     1.0\n",
       "3     2.0\n",
       "4     3.0\n",
       "5     NaN\n",
       "dtype: float64"
      ]
     },
     "execution_count": 11,
     "metadata": {},
     "output_type": "execute_result"
    }
   ],
   "source": [
    "# nan이 존재하면 data type은 float64로 변경된다.\n",
    "a = pd.Series([10, 9, 1, 2, 3, np.nan])\n",
    "a"
   ]
  },
  {
   "cell_type": "code",
   "execution_count": 12,
   "id": "eb507c5c",
   "metadata": {},
   "outputs": [
    {
     "data": {
      "text/plain": [
       "6"
      ]
     },
     "execution_count": 12,
     "metadata": {},
     "output_type": "execute_result"
    }
   ],
   "source": [
    "# len() 함수는 nan을 포함한다\n",
    "len(a)"
   ]
  },
  {
   "cell_type": "code",
   "execution_count": 14,
   "id": "99fff758",
   "metadata": {},
   "outputs": [
    {
     "data": {
      "text/plain": [
       "5"
      ]
     },
     "execution_count": 14,
     "metadata": {},
     "output_type": "execute_result"
    }
   ],
   "source": [
    "# count() 메서드는 nan을 포함하지 않는다. (shift-tap 확인)\n",
    "a.count()"
   ]
  },
  {
   "cell_type": "code",
   "execution_count": 15,
   "id": "5baec4d5",
   "metadata": {},
   "outputs": [
    {
     "data": {
      "text/plain": [
       "array([10.,  9.,  1.,  2.,  3., nan])"
      ]
     },
     "execution_count": 15,
     "metadata": {},
     "output_type": "execute_result"
    }
   ],
   "source": [
    "# unique() 메서드는 nan을 포함한다.\n",
    "# 반환타입: ndarray\n",
    "a.unique()"
   ]
  },
  {
   "cell_type": "code",
   "execution_count": 16,
   "id": "677d8c5f",
   "metadata": {},
   "outputs": [
    {
     "data": {
      "text/plain": [
       "10.0    1\n",
       "9.0     1\n",
       "1.0     1\n",
       "2.0     1\n",
       "3.0     1\n",
       "dtype: int64"
      ]
     },
     "execution_count": 16,
     "metadata": {},
     "output_type": "execute_result"
    }
   ],
   "source": [
    "# value_counts() 메서드는 nan을 포함하지 않는다.\n",
    "# 반환타입: Series\n",
    "a.value_counts()"
   ]
  },
  {
   "cell_type": "markdown",
   "id": "cf8c800d",
   "metadata": {},
   "source": [
    "## Series 객체는 index를 기준으로 연산이 수행된다."
   ]
  },
  {
   "cell_type": "code",
   "execution_count": 18,
   "id": "8837b3af",
   "metadata": {},
   "outputs": [],
   "source": [
    "s3 = pd.Series(\n",
    "    [1, 2, 3, 4],\n",
    "    index = ['a', 'b', 'c', 'd']\n",
    ")\n",
    "s4 = pd.Series(\n",
    "    [4, 3, 2, 1],\n",
    "    index = ['d', 'c', 'b', 'a']\n",
    ")"
   ]
  },
  {
   "cell_type": "code",
   "execution_count": 21,
   "id": "6d7036db",
   "metadata": {},
   "outputs": [
    {
     "data": {
      "text/plain": [
       "a    2\n",
       "b    4\n",
       "c    6\n",
       "d    8\n",
       "dtype: int64"
      ]
     },
     "execution_count": 21,
     "metadata": {},
     "output_type": "execute_result"
    }
   ],
   "source": [
    "s3 + s4"
   ]
  },
  {
   "cell_type": "markdown",
   "id": "45affa06",
   "metadata": {},
   "source": [
    "# DataFrame data type"
   ]
  },
  {
   "cell_type": "markdown",
   "id": "a7e56420",
   "metadata": {},
   "source": [
    "* 다수의 Series 객체를 하나의 변수로 관리하기 위해 만든 자료형"
   ]
  },
  {
   "cell_type": "markdown",
   "id": "5a270437",
   "metadata": {},
   "source": [
    "* Series를 값으로 갖는 dict 형태이다."
   ]
  },
  {
   "cell_type": "markdown",
   "id": "a22f64ba",
   "metadata": {},
   "source": [
    "    {'컬럼명1' : Series1, '컬럼명2' : Series2}"
   ]
  },
  {
   "cell_type": "markdown",
   "id": "a2ab432f",
   "metadata": {},
   "source": [
    "* 각 Series는 DataFrame의 column을 이룬다."
   ]
  },
  {
   "cell_type": "markdown",
   "id": "1043cefb",
   "metadata": {},
   "source": [
    "* DataFrame을 이루는 Series 간의 index는 모두 동일해야한다."
   ]
  },
  {
   "cell_type": "markdown",
   "id": "f090f02c",
   "metadata": {},
   "source": [
    "    -> 데이터 손실을 최소화하기 위해 항상 합집합으로 병합된다."
   ]
  },
  {
   "cell_type": "markdown",
   "id": "ed3eb4e8",
   "metadata": {},
   "source": [
    "## DataFrame을 만드는 다양한 방법들"
   ]
  },
  {
   "cell_type": "code",
   "execution_count": 23,
   "id": "852b79c0",
   "metadata": {},
   "outputs": [
    {
     "data": {
      "text/html": [
       "<div>\n",
       "<style scoped>\n",
       "    .dataframe tbody tr th:only-of-type {\n",
       "        vertical-align: middle;\n",
       "    }\n",
       "\n",
       "    .dataframe tbody tr th {\n",
       "        vertical-align: top;\n",
       "    }\n",
       "\n",
       "    .dataframe thead th {\n",
       "        text-align: right;\n",
       "    }\n",
       "</style>\n",
       "<table border=\"1\" class=\"dataframe\">\n",
       "  <thead>\n",
       "    <tr style=\"text-align: right;\">\n",
       "      <th></th>\n",
       "      <th>0</th>\n",
       "      <th>1</th>\n",
       "    </tr>\n",
       "  </thead>\n",
       "  <tbody>\n",
       "    <tr>\n",
       "      <th>0</th>\n",
       "      <td>1</td>\n",
       "      <td>2</td>\n",
       "    </tr>\n",
       "    <tr>\n",
       "      <th>1</th>\n",
       "      <td>3</td>\n",
       "      <td>4</td>\n",
       "    </tr>\n",
       "  </tbody>\n",
       "</table>\n",
       "</div>"
      ],
      "text/plain": [
       "   0  1\n",
       "0  1  2\n",
       "1  3  4"
      ]
     },
     "execution_count": 23,
     "metadata": {},
     "output_type": "execute_result"
    },
    {
     "data": {
      "text/html": [
       "<div>\n",
       "<style scoped>\n",
       "    .dataframe tbody tr th:only-of-type {\n",
       "        vertical-align: middle;\n",
       "    }\n",
       "\n",
       "    .dataframe tbody tr th {\n",
       "        vertical-align: top;\n",
       "    }\n",
       "\n",
       "    .dataframe thead th {\n",
       "        text-align: right;\n",
       "    }\n",
       "</style>\n",
       "<table border=\"1\" class=\"dataframe\">\n",
       "  <thead>\n",
       "    <tr style=\"text-align: right;\">\n",
       "      <th></th>\n",
       "      <th>0</th>\n",
       "      <th>1</th>\n",
       "    </tr>\n",
       "  </thead>\n",
       "  <tbody>\n",
       "    <tr>\n",
       "      <th>0</th>\n",
       "      <td>1</td>\n",
       "      <td>2</td>\n",
       "    </tr>\n",
       "    <tr>\n",
       "      <th>1</th>\n",
       "      <td>3</td>\n",
       "      <td>4</td>\n",
       "    </tr>\n",
       "  </tbody>\n",
       "</table>\n",
       "</div>"
      ],
      "text/plain": [
       "   0  1\n",
       "0  1  2\n",
       "1  3  4"
      ]
     },
     "execution_count": 23,
     "metadata": {},
     "output_type": "execute_result"
    }
   ],
   "source": [
    "# 1번째 방법(list 또는 ndarray로 생성)\n",
    "a = pd.DataFrame(\n",
    "    [[1, 2],\n",
    "     [3, 4]]\n",
    ")\n",
    "a\n",
    "b = pd.DataFrame(\n",
    "    np.array(\n",
    "        [[1, 2],\n",
    "         [3, 4]]\n",
    "    )\n",
    ")\n",
    "b"
   ]
  },
  {
   "cell_type": "code",
   "execution_count": 28,
   "id": "faba6744",
   "metadata": {},
   "outputs": [
    {
     "data": {
      "text/html": [
       "<div>\n",
       "<style scoped>\n",
       "    .dataframe tbody tr th:only-of-type {\n",
       "        vertical-align: middle;\n",
       "    }\n",
       "\n",
       "    .dataframe tbody tr th {\n",
       "        vertical-align: top;\n",
       "    }\n",
       "\n",
       "    .dataframe thead th {\n",
       "        text-align: right;\n",
       "    }\n",
       "</style>\n",
       "<table border=\"1\" class=\"dataframe\">\n",
       "  <thead>\n",
       "    <tr style=\"text-align: right;\">\n",
       "      <th></th>\n",
       "      <th>0</th>\n",
       "      <th>1</th>\n",
       "      <th>2</th>\n",
       "      <th>3</th>\n",
       "      <th>4</th>\n",
       "    </tr>\n",
       "  </thead>\n",
       "  <tbody>\n",
       "    <tr>\n",
       "      <th>0</th>\n",
       "      <td>1</td>\n",
       "      <td>2</td>\n",
       "      <td>3</td>\n",
       "      <td>4</td>\n",
       "      <td>5</td>\n",
       "    </tr>\n",
       "    <tr>\n",
       "      <th>1</th>\n",
       "      <td>6</td>\n",
       "      <td>7</td>\n",
       "      <td>8</td>\n",
       "      <td>9</td>\n",
       "      <td>10</td>\n",
       "    </tr>\n",
       "  </tbody>\n",
       "</table>\n",
       "</div>"
      ],
      "text/plain": [
       "   0  1  2  3   4\n",
       "0  1  2  3  4   5\n",
       "1  6  7  8  9  10"
      ]
     },
     "execution_count": 28,
     "metadata": {},
     "output_type": "execute_result"
    },
    {
     "data": {
      "text/html": [
       "<div>\n",
       "<style scoped>\n",
       "    .dataframe tbody tr th:only-of-type {\n",
       "        vertical-align: middle;\n",
       "    }\n",
       "\n",
       "    .dataframe tbody tr th {\n",
       "        vertical-align: top;\n",
       "    }\n",
       "\n",
       "    .dataframe thead th {\n",
       "        text-align: right;\n",
       "    }\n",
       "</style>\n",
       "<table border=\"1\" class=\"dataframe\">\n",
       "  <thead>\n",
       "    <tr style=\"text-align: right;\">\n",
       "      <th></th>\n",
       "      <th>0</th>\n",
       "      <th>1</th>\n",
       "      <th>2</th>\n",
       "      <th>3</th>\n",
       "      <th>4</th>\n",
       "    </tr>\n",
       "  </thead>\n",
       "  <tbody>\n",
       "    <tr>\n",
       "      <th>0</th>\n",
       "      <td>1</td>\n",
       "      <td>2</td>\n",
       "      <td>3</td>\n",
       "      <td>4</td>\n",
       "      <td>5</td>\n",
       "    </tr>\n",
       "    <tr>\n",
       "      <th>1</th>\n",
       "      <td>6</td>\n",
       "      <td>7</td>\n",
       "      <td>8</td>\n",
       "      <td>9</td>\n",
       "      <td>10</td>\n",
       "    </tr>\n",
       "  </tbody>\n",
       "</table>\n",
       "</div>"
      ],
      "text/plain": [
       "   0  1  2  3   4\n",
       "0  1  2  3  4   5\n",
       "1  6  7  8  9  10"
      ]
     },
     "execution_count": 28,
     "metadata": {},
     "output_type": "execute_result"
    }
   ],
   "source": [
    "# 2번째 방법(행으로 넣기, 많이 안쓰임...)\n",
    "a = pd.DataFrame(\n",
    "    [pd.Series(np.arange(1, 6)),\n",
    "     pd.Series(np.arange(6, 11))]\n",
    ")\n",
    "a\n",
    "b = pd.DataFrame(\n",
    "    [np.arange(1, 6),\n",
    "     np.arange(6, 11)]\n",
    ")\n",
    "b"
   ]
  },
  {
   "cell_type": "code",
   "execution_count": 31,
   "id": "ea5727ac",
   "metadata": {},
   "outputs": [
    {
     "data": {
      "text/html": [
       "<div>\n",
       "<style scoped>\n",
       "    .dataframe tbody tr th:only-of-type {\n",
       "        vertical-align: middle;\n",
       "    }\n",
       "\n",
       "    .dataframe tbody tr th {\n",
       "        vertical-align: top;\n",
       "    }\n",
       "\n",
       "    .dataframe thead th {\n",
       "        text-align: right;\n",
       "    }\n",
       "</style>\n",
       "<table border=\"1\" class=\"dataframe\">\n",
       "  <thead>\n",
       "    <tr style=\"text-align: right;\">\n",
       "      <th></th>\n",
       "      <th>a</th>\n",
       "      <th>b</th>\n",
       "    </tr>\n",
       "  </thead>\n",
       "  <tbody>\n",
       "    <tr>\n",
       "      <th>0</th>\n",
       "      <td>1</td>\n",
       "      <td>2</td>\n",
       "    </tr>\n",
       "    <tr>\n",
       "      <th>1</th>\n",
       "      <td>3</td>\n",
       "      <td>4</td>\n",
       "    </tr>\n",
       "  </tbody>\n",
       "</table>\n",
       "</div>"
      ],
      "text/plain": [
       "   a  b\n",
       "0  1  2\n",
       "1  3  4"
      ]
     },
     "execution_count": 31,
     "metadata": {},
     "output_type": "execute_result"
    }
   ],
   "source": [
    "# 3번째 방법(column과 index 부여)\n",
    "a = pd.DataFrame(\n",
    "    [[1, 2],\n",
    "     [3, 4]],\n",
    "    index = [0, 1],\n",
    "    columns = ['a', 'b']\n",
    ")\n",
    "a"
   ]
  },
  {
   "cell_type": "code",
   "execution_count": 32,
   "id": "38a3982e",
   "metadata": {},
   "outputs": [
    {
     "data": {
      "text/html": [
       "<div>\n",
       "<style scoped>\n",
       "    .dataframe tbody tr th:only-of-type {\n",
       "        vertical-align: middle;\n",
       "    }\n",
       "\n",
       "    .dataframe tbody tr th {\n",
       "        vertical-align: top;\n",
       "    }\n",
       "\n",
       "    .dataframe thead th {\n",
       "        text-align: right;\n",
       "    }\n",
       "</style>\n",
       "<table border=\"1\" class=\"dataframe\">\n",
       "  <thead>\n",
       "    <tr style=\"text-align: right;\">\n",
       "      <th></th>\n",
       "      <th>a</th>\n",
       "      <th>b</th>\n",
       "    </tr>\n",
       "  </thead>\n",
       "  <tbody>\n",
       "    <tr>\n",
       "      <th>0</th>\n",
       "      <td>1</td>\n",
       "      <td>3</td>\n",
       "    </tr>\n",
       "    <tr>\n",
       "      <th>1</th>\n",
       "      <td>2</td>\n",
       "      <td>4</td>\n",
       "    </tr>\n",
       "  </tbody>\n",
       "</table>\n",
       "</div>"
      ],
      "text/plain": [
       "   a  b\n",
       "0  1  3\n",
       "1  2  4"
      ]
     },
     "execution_count": 32,
     "metadata": {},
     "output_type": "execute_result"
    }
   ],
   "source": [
    "# 4번째 방법(dict로 생성)\n",
    "a = pd.DataFrame(\n",
    "    {'a' : [1, 2],\n",
    "     'b' : [3, 4]}\n",
    ")\n",
    "a"
   ]
  },
  {
   "cell_type": "code",
   "execution_count": 33,
   "id": "c65aff8d",
   "metadata": {},
   "outputs": [
    {
     "data": {
      "text/html": [
       "<div>\n",
       "<style scoped>\n",
       "    .dataframe tbody tr th:only-of-type {\n",
       "        vertical-align: middle;\n",
       "    }\n",
       "\n",
       "    .dataframe tbody tr th {\n",
       "        vertical-align: top;\n",
       "    }\n",
       "\n",
       "    .dataframe thead th {\n",
       "        text-align: right;\n",
       "    }\n",
       "</style>\n",
       "<table border=\"1\" class=\"dataframe\">\n",
       "  <thead>\n",
       "    <tr style=\"text-align: right;\">\n",
       "      <th></th>\n",
       "      <th>a</th>\n",
       "      <th>b</th>\n",
       "    </tr>\n",
       "  </thead>\n",
       "  <tbody>\n",
       "    <tr>\n",
       "      <th>0</th>\n",
       "      <td>1</td>\n",
       "      <td>2</td>\n",
       "    </tr>\n",
       "  </tbody>\n",
       "</table>\n",
       "</div>"
      ],
      "text/plain": [
       "   a  b\n",
       "0  1  2"
      ]
     },
     "execution_count": 33,
     "metadata": {},
     "output_type": "execute_result"
    }
   ],
   "source": [
    "# 열을 하나만 갖고 있는 DataFrame을 생성할 때도 dict의 value에 해당하는 값은 iterable한 값이어야 한다.\n",
    "# iterable한 데이터: list, np.array, pd.Series()\n",
    "a = pd.DataFrame(\n",
    "    {'a' : [1],\n",
    "     'b' : [2]}\n",
    ")\n",
    "a"
   ]
  },
  {
   "cell_type": "markdown",
   "id": "52e10c32",
   "metadata": {},
   "source": [
    "## DataFrame 생성시, Series 간에 index를 기준으로 자동정렬한다."
   ]
  },
  {
   "cell_type": "code",
   "execution_count": 13,
   "id": "94734808",
   "metadata": {},
   "outputs": [
    {
     "data": {
      "text/plain": [
       "0    1\n",
       "1    2\n",
       "2    3\n",
       "3    4\n",
       "4    5\n",
       "dtype: int32"
      ]
     },
     "execution_count": 13,
     "metadata": {},
     "output_type": "execute_result"
    },
    {
     "data": {
      "text/plain": [
       "0     6\n",
       "1     7\n",
       "2     8\n",
       "3     9\n",
       "4    10\n",
       "dtype: int32"
      ]
     },
     "execution_count": 13,
     "metadata": {},
     "output_type": "execute_result"
    },
    {
     "data": {
      "text/plain": [
       "1     12\n",
       "2     13\n",
       "10    14\n",
       "dtype: int32"
      ]
     },
     "execution_count": 13,
     "metadata": {},
     "output_type": "execute_result"
    }
   ],
   "source": [
    "s1 = pd.Series(np.arange(1, 6))\n",
    "s2 = pd.Series(np.arange(6, 11))\n",
    "s3 = pd.Series(np.arange(12, 15), index = [1, 2, 10])\n",
    "s1\n",
    "s2\n",
    "s3"
   ]
  },
  {
   "cell_type": "code",
   "execution_count": 16,
   "id": "c1f11513",
   "metadata": {},
   "outputs": [
    {
     "data": {
      "text/html": [
       "<div>\n",
       "<style scoped>\n",
       "    .dataframe tbody tr th:only-of-type {\n",
       "        vertical-align: middle;\n",
       "    }\n",
       "\n",
       "    .dataframe tbody tr th {\n",
       "        vertical-align: top;\n",
       "    }\n",
       "\n",
       "    .dataframe thead th {\n",
       "        text-align: right;\n",
       "    }\n",
       "</style>\n",
       "<table border=\"1\" class=\"dataframe\">\n",
       "  <thead>\n",
       "    <tr style=\"text-align: right;\">\n",
       "      <th></th>\n",
       "      <th>c1</th>\n",
       "      <th>c2</th>\n",
       "      <th>c3</th>\n",
       "    </tr>\n",
       "  </thead>\n",
       "  <tbody>\n",
       "    <tr>\n",
       "      <th>0</th>\n",
       "      <td>1.000</td>\n",
       "      <td>6.000</td>\n",
       "      <td>NaN</td>\n",
       "    </tr>\n",
       "    <tr>\n",
       "      <th>1</th>\n",
       "      <td>2.000</td>\n",
       "      <td>7.000</td>\n",
       "      <td>12.000</td>\n",
       "    </tr>\n",
       "    <tr>\n",
       "      <th>2</th>\n",
       "      <td>3.000</td>\n",
       "      <td>8.000</td>\n",
       "      <td>13.000</td>\n",
       "    </tr>\n",
       "    <tr>\n",
       "      <th>3</th>\n",
       "      <td>4.000</td>\n",
       "      <td>9.000</td>\n",
       "      <td>NaN</td>\n",
       "    </tr>\n",
       "    <tr>\n",
       "      <th>4</th>\n",
       "      <td>5.000</td>\n",
       "      <td>10.000</td>\n",
       "      <td>NaN</td>\n",
       "    </tr>\n",
       "    <tr>\n",
       "      <th>10</th>\n",
       "      <td>NaN</td>\n",
       "      <td>NaN</td>\n",
       "      <td>14.000</td>\n",
       "    </tr>\n",
       "  </tbody>\n",
       "</table>\n",
       "</div>"
      ],
      "text/plain": [
       "      c1     c2     c3\n",
       "0  1.000  6.000    NaN\n",
       "1  2.000  7.000 12.000\n",
       "2  3.000  8.000 13.000\n",
       "3  4.000  9.000    NaN\n",
       "4  5.000 10.000    NaN\n",
       "10   NaN    NaN 14.000"
      ]
     },
     "execution_count": 16,
     "metadata": {},
     "output_type": "execute_result"
    }
   ],
   "source": [
    "df = pd.DataFrame(\n",
    "    {'c1' : s1,\n",
    "     'c2' : s2,\n",
    "     'c3' : s3}\n",
    ")\n",
    "df"
   ]
  },
  {
   "cell_type": "markdown",
   "id": "a804b593",
   "metadata": {},
   "source": [
    "## DataFrame에 새로운 column 추가하기"
   ]
  },
  {
   "cell_type": "code",
   "execution_count": 38,
   "id": "4ea623a9",
   "metadata": {
    "scrolled": true
   },
   "outputs": [],
   "source": [
    "df['c4'] = pd.Series(\n",
    "    [1, 2, 3, 4], \n",
    "    index = [2, 3, 4, 10]\n",
    ")"
   ]
  },
  {
   "cell_type": "markdown",
   "id": "7b1145ff",
   "metadata": {},
   "source": [
    "## reindexing"
   ]
  },
  {
   "cell_type": "markdown",
   "id": "cde4baae",
   "metadata": {},
   "source": [
    "* 새로운 index를 기반으로 index-value mapping을 유지한채 재배열한다."
   ]
  },
  {
   "cell_type": "markdown",
   "id": "b0c6e853",
   "metadata": {},
   "source": [
    "### index 자체를 바꾸는 것(index-value mapping이 깨짐)"
   ]
  },
  {
   "cell_type": "code",
   "execution_count": 6,
   "id": "84f66051",
   "metadata": {},
   "outputs": [
    {
     "data": {
      "text/plain": [
       "0    1\n",
       "1    2\n",
       "2    3\n",
       "3    4\n",
       "4    5\n",
       "dtype: int64"
      ]
     },
     "execution_count": 6,
     "metadata": {},
     "output_type": "execute_result"
    }
   ],
   "source": [
    "s = pd.Series([1, 2, 3, 4, 5])\n",
    "s"
   ]
  },
  {
   "cell_type": "code",
   "execution_count": 7,
   "id": "823dc33c",
   "metadata": {},
   "outputs": [
    {
     "data": {
      "text/plain": [
       "a    1\n",
       "b    2\n",
       "c    3\n",
       "d    4\n",
       "e    5\n",
       "dtype: int64"
      ]
     },
     "execution_count": 7,
     "metadata": {},
     "output_type": "execute_result"
    }
   ],
   "source": [
    "s.index = ['a', 'b', 'c', 'd', 'e']\n",
    "s"
   ]
  },
  {
   "cell_type": "markdown",
   "id": "6c88d311",
   "metadata": {},
   "source": [
    "### `set_index()`: 특정 column을 index로 만든다."
   ]
  },
  {
   "cell_type": "code",
   "execution_count": 18,
   "id": "bae5f1f0",
   "metadata": {},
   "outputs": [
    {
     "data": {
      "text/html": [
       "<div>\n",
       "<style scoped>\n",
       "    .dataframe tbody tr th:only-of-type {\n",
       "        vertical-align: middle;\n",
       "    }\n",
       "\n",
       "    .dataframe tbody tr th {\n",
       "        vertical-align: top;\n",
       "    }\n",
       "\n",
       "    .dataframe thead th {\n",
       "        text-align: right;\n",
       "    }\n",
       "</style>\n",
       "<table border=\"1\" class=\"dataframe\">\n",
       "  <thead>\n",
       "    <tr style=\"text-align: right;\">\n",
       "      <th></th>\n",
       "      <th>c1</th>\n",
       "      <th>c2</th>\n",
       "      <th>c3</th>\n",
       "      <th>c4</th>\n",
       "    </tr>\n",
       "  </thead>\n",
       "  <tbody>\n",
       "    <tr>\n",
       "      <th>0</th>\n",
       "      <td>1.000</td>\n",
       "      <td>6.000</td>\n",
       "      <td>NaN</td>\n",
       "      <td>1.000</td>\n",
       "    </tr>\n",
       "    <tr>\n",
       "      <th>1</th>\n",
       "      <td>2.000</td>\n",
       "      <td>7.000</td>\n",
       "      <td>12.000</td>\n",
       "      <td>2.000</td>\n",
       "    </tr>\n",
       "    <tr>\n",
       "      <th>2</th>\n",
       "      <td>3.000</td>\n",
       "      <td>8.000</td>\n",
       "      <td>13.000</td>\n",
       "      <td>3.000</td>\n",
       "    </tr>\n",
       "    <tr>\n",
       "      <th>3</th>\n",
       "      <td>4.000</td>\n",
       "      <td>9.000</td>\n",
       "      <td>NaN</td>\n",
       "      <td>4.000</td>\n",
       "    </tr>\n",
       "    <tr>\n",
       "      <th>4</th>\n",
       "      <td>5.000</td>\n",
       "      <td>10.000</td>\n",
       "      <td>NaN</td>\n",
       "      <td>5.000</td>\n",
       "    </tr>\n",
       "    <tr>\n",
       "      <th>10</th>\n",
       "      <td>NaN</td>\n",
       "      <td>NaN</td>\n",
       "      <td>14.000</td>\n",
       "      <td>NaN</td>\n",
       "    </tr>\n",
       "  </tbody>\n",
       "</table>\n",
       "</div>"
      ],
      "text/plain": [
       "      c1     c2     c3    c4\n",
       "0  1.000  6.000    NaN 1.000\n",
       "1  2.000  7.000 12.000 2.000\n",
       "2  3.000  8.000 13.000 3.000\n",
       "3  4.000  9.000    NaN 4.000\n",
       "4  5.000 10.000    NaN 5.000\n",
       "10   NaN    NaN 14.000   NaN"
      ]
     },
     "execution_count": 18,
     "metadata": {},
     "output_type": "execute_result"
    }
   ],
   "source": [
    "df['c4'] = pd.Series([1, 2, 3, 4, 5])\n",
    "df"
   ]
  },
  {
   "cell_type": "code",
   "execution_count": 20,
   "id": "43cddd24",
   "metadata": {},
   "outputs": [
    {
     "data": {
      "text/html": [
       "<div>\n",
       "<style scoped>\n",
       "    .dataframe tbody tr th:only-of-type {\n",
       "        vertical-align: middle;\n",
       "    }\n",
       "\n",
       "    .dataframe tbody tr th {\n",
       "        vertical-align: top;\n",
       "    }\n",
       "\n",
       "    .dataframe thead th {\n",
       "        text-align: right;\n",
       "    }\n",
       "</style>\n",
       "<table border=\"1\" class=\"dataframe\">\n",
       "  <thead>\n",
       "    <tr style=\"text-align: right;\">\n",
       "      <th></th>\n",
       "      <th>c1</th>\n",
       "      <th>c2</th>\n",
       "      <th>c3</th>\n",
       "    </tr>\n",
       "    <tr>\n",
       "      <th>c4</th>\n",
       "      <th></th>\n",
       "      <th></th>\n",
       "      <th></th>\n",
       "    </tr>\n",
       "  </thead>\n",
       "  <tbody>\n",
       "    <tr>\n",
       "      <th>1.000</th>\n",
       "      <td>1.000</td>\n",
       "      <td>6.000</td>\n",
       "      <td>NaN</td>\n",
       "    </tr>\n",
       "    <tr>\n",
       "      <th>2.000</th>\n",
       "      <td>2.000</td>\n",
       "      <td>7.000</td>\n",
       "      <td>12.000</td>\n",
       "    </tr>\n",
       "    <tr>\n",
       "      <th>3.000</th>\n",
       "      <td>3.000</td>\n",
       "      <td>8.000</td>\n",
       "      <td>13.000</td>\n",
       "    </tr>\n",
       "    <tr>\n",
       "      <th>4.000</th>\n",
       "      <td>4.000</td>\n",
       "      <td>9.000</td>\n",
       "      <td>NaN</td>\n",
       "    </tr>\n",
       "    <tr>\n",
       "      <th>5.000</th>\n",
       "      <td>5.000</td>\n",
       "      <td>10.000</td>\n",
       "      <td>NaN</td>\n",
       "    </tr>\n",
       "    <tr>\n",
       "      <th>NaN</th>\n",
       "      <td>NaN</td>\n",
       "      <td>NaN</td>\n",
       "      <td>14.000</td>\n",
       "    </tr>\n",
       "  </tbody>\n",
       "</table>\n",
       "</div>"
      ],
      "text/plain": [
       "         c1     c2     c3\n",
       "c4                       \n",
       "1.000 1.000  6.000    NaN\n",
       "2.000 2.000  7.000 12.000\n",
       "3.000 3.000  8.000 13.000\n",
       "4.000 4.000  9.000    NaN\n",
       "5.000 5.000 10.000    NaN\n",
       "NaN     NaN    NaN 14.000"
      ]
     },
     "execution_count": 20,
     "metadata": {},
     "output_type": "execute_result"
    }
   ],
   "source": [
    "# 데이터프레임을 반환한다.\n",
    "df.set_index('c4')"
   ]
  },
  {
   "cell_type": "markdown",
   "id": "846b6d46",
   "metadata": {},
   "source": [
    "### reindex(기존 값은 그대로 사용하고 새로운 값은 NaN으로 대체)"
   ]
  },
  {
   "cell_type": "code",
   "execution_count": 21,
   "id": "fd626f4e",
   "metadata": {},
   "outputs": [
    {
     "data": {
      "text/plain": [
       "0     6\n",
       "1     7\n",
       "2     8\n",
       "3     9\n",
       "4    10\n",
       "dtype: int32"
      ]
     },
     "execution_count": 21,
     "metadata": {},
     "output_type": "execute_result"
    }
   ],
   "source": [
    "s2"
   ]
  },
  {
   "cell_type": "code",
   "execution_count": 22,
   "id": "e8e83ddb",
   "metadata": {},
   "outputs": [
    {
     "data": {
      "text/plain": [
       "1   7.000\n",
       "2   8.000\n",
       "5     NaN\n",
       "7     NaN\n",
       "dtype: float64"
      ]
     },
     "execution_count": 22,
     "metadata": {},
     "output_type": "execute_result"
    }
   ],
   "source": [
    "new = s2.reindex(\n",
    "    [1, 2, 5, 7]\n",
    ")\n",
    "new"
   ]
  },
  {
   "cell_type": "code",
   "execution_count": 23,
   "id": "617ce6b0",
   "metadata": {},
   "outputs": [
    {
     "data": {
      "text/plain": [
       "1   7.000\n",
       "2   0.000\n",
       "5     NaN\n",
       "7     NaN\n",
       "dtype: float64"
      ]
     },
     "execution_count": 23,
     "metadata": {},
     "output_type": "execute_result"
    }
   ],
   "source": [
    "# 덮어쓰기\n",
    "new[2] = 0\n",
    "new"
   ]
  },
  {
   "cell_type": "markdown",
   "id": "d8428f4e",
   "metadata": {},
   "source": [
    "### `reindex()`의 유용한 arguments"
   ]
  },
  {
   "cell_type": "markdown",
   "id": "2dfb1636",
   "metadata": {},
   "source": [
    "* `fill_value`"
   ]
  },
  {
   "cell_type": "code",
   "execution_count": 33,
   "id": "10e8f5de",
   "metadata": {},
   "outputs": [
    {
     "data": {
      "text/plain": [
       "a    3\n",
       "b    4\n",
       "c    5\n",
       "dtype: int64"
      ]
     },
     "execution_count": 33,
     "metadata": {},
     "output_type": "execute_result"
    }
   ],
   "source": [
    "# Series 객체 copy\n",
    "copied = s2.copy()\n",
    "copied"
   ]
  },
  {
   "cell_type": "code",
   "execution_count": 35,
   "id": "4e233530",
   "metadata": {},
   "outputs": [
    {
     "data": {
      "text/plain": [
       "a    3\n",
       "b    4\n",
       "d    0\n",
       "e    0\n",
       "dtype: int64"
      ]
     },
     "execution_count": 35,
     "metadata": {},
     "output_type": "execute_result"
    }
   ],
   "source": [
    "s2.reindex(\n",
    "    ['a', 'b', 'd', 'e'],\n",
    "    fill_value = 0\n",
    ")"
   ]
  },
  {
   "cell_type": "markdown",
   "id": "149f62bb",
   "metadata": {},
   "source": [
    "* `method`"
   ]
  },
  {
   "cell_type": "code",
   "execution_count": 37,
   "id": "69f6735c",
   "metadata": {},
   "outputs": [
    {
     "data": {
      "text/plain": [
       "0      red\n",
       "1      red\n",
       "2      red\n",
       "3     blue\n",
       "4     blue\n",
       "5    green\n",
       "6    green\n",
       "7    green\n",
       "8    green\n",
       "9    green\n",
       "dtype: object"
      ]
     },
     "execution_count": 37,
     "metadata": {},
     "output_type": "execute_result"
    }
   ],
   "source": [
    "s3 = pd.Series(\n",
    "    ['red', 'blue', 'green'],\n",
    "    index = [0, 3, 5]\n",
    ")\n",
    "s3.reindex(\n",
    "    np.arange(0, 10),\n",
    "    method = \"ffill\"\n",
    ")"
   ]
  },
  {
   "cell_type": "markdown",
   "id": "522d52d5",
   "metadata": {},
   "source": [
    "### index 관련 자주 실수하는 사항"
   ]
  },
  {
   "cell_type": "code",
   "execution_count": 24,
   "id": "3690a8b4",
   "metadata": {},
   "outputs": [
    {
     "data": {
      "text/plain": [
       "0    0\n",
       "1    1\n",
       "2    2\n",
       "dtype: int64"
      ]
     },
     "execution_count": 24,
     "metadata": {},
     "output_type": "execute_result"
    },
    {
     "data": {
      "text/plain": [
       "0    3\n",
       "1    4\n",
       "2    5\n",
       "dtype: int64"
      ]
     },
     "execution_count": 24,
     "metadata": {},
     "output_type": "execute_result"
    }
   ],
   "source": [
    "s1 = pd.Series([0, 1, 2], index = [0, 1, 2])\n",
    "s2 = pd.Series([3, 4, 5], index = ['0', '1', '2'])\n",
    "s1\n",
    "s2"
   ]
  },
  {
   "cell_type": "code",
   "execution_count": 26,
   "id": "7ce83194",
   "metadata": {},
   "outputs": [
    {
     "data": {
      "text/plain": [
       "0   NaN\n",
       "1   NaN\n",
       "2   NaN\n",
       "0   NaN\n",
       "1   NaN\n",
       "2   NaN\n",
       "dtype: float64"
      ]
     },
     "execution_count": 26,
     "metadata": {},
     "output_type": "execute_result"
    }
   ],
   "source": [
    "# index를 기준으로 연산을 수행하지만 \n",
    "# 문자열 인덱스와 숫자형 인덱스는 별개의 인덱스로 취급된다.\n",
    "s1 + s2"
   ]
  },
  {
   "cell_type": "code",
   "execution_count": 27,
   "id": "6804b763",
   "metadata": {},
   "outputs": [
    {
     "data": {
      "text/plain": [
       "0   NaN\n",
       "1   NaN\n",
       "2   NaN\n",
       "dtype: float64"
      ]
     },
     "execution_count": 27,
     "metadata": {},
     "output_type": "execute_result"
    }
   ],
   "source": [
    "new = s2.reindex(s1.index)\n",
    "new"
   ]
  },
  {
   "cell_type": "code",
   "execution_count": 30,
   "id": "4e2dac19",
   "metadata": {},
   "outputs": [],
   "source": [
    "# 첫번째 해결방법(인덱스 자료형 일치)\n",
    "s2.index = s1.index.astype(int)"
   ]
  },
  {
   "cell_type": "code",
   "execution_count": 31,
   "id": "3caa33f7",
   "metadata": {},
   "outputs": [
    {
     "data": {
      "text/plain": [
       "0    3\n",
       "1    5\n",
       "2    7\n",
       "dtype: int64"
      ]
     },
     "execution_count": 31,
     "metadata": {},
     "output_type": "execute_result"
    }
   ],
   "source": [
    "s1 + s2"
   ]
  },
  {
   "cell_type": "code",
   "execution_count": 32,
   "id": "ebb10db1",
   "metadata": {},
   "outputs": [
    {
     "data": {
      "text/plain": [
       "a    3\n",
       "b    5\n",
       "c    7\n",
       "dtype: int64"
      ]
     },
     "execution_count": 32,
     "metadata": {},
     "output_type": "execute_result"
    }
   ],
   "source": [
    "# 두번쨰 해결방법(새로운 인덱스로 일치 시켜준다)\n",
    "s1.index = ['a', 'b', 'c']\n",
    "s2.index = ['a', 'b', 'c']\n",
    "s1 + s2"
   ]
  },
  {
   "cell_type": "markdown",
   "id": "40538e16",
   "metadata": {},
   "source": [
    "### reindex 관련 예제"
   ]
  },
  {
   "cell_type": "code",
   "execution_count": 45,
   "id": "2d46c58b",
   "metadata": {},
   "outputs": [
    {
     "name": "stdout",
     "output_type": "stream",
     "text": [
      "Looking in indexes: https://pypi.org/simple, https://pypi.ngc.nvidia.com\n",
      "Collecting finance_datareader==0.9.1\n",
      "  Downloading finance_datareader-0.9.1-py3-none-any.whl (17 kB)\n",
      "Requirement already satisfied: pandas>=0.19.2 in c:\\users\\ignis535\\appdata\\local\\programs\\python\\python39\\lib\\site-packages (from finance_datareader==0.9.1) (1.3.0)\n",
      "Requirement already satisfied: requests>=2.3.0 in c:\\users\\ignis535\\appdata\\local\\programs\\python\\python39\\lib\\site-packages (from finance_datareader==0.9.1) (2.27.1)\n",
      "Collecting lxml\n",
      "  Downloading lxml-4.8.0-cp39-cp39-win_amd64.whl (3.6 MB)\n",
      "Collecting requests-file\n",
      "  Downloading requests_file-1.5.1-py2.py3-none-any.whl (3.7 kB)\n",
      "Requirement already satisfied: pytz>=2017.3 in c:\\users\\ignis535\\appdata\\local\\programs\\python\\python39\\lib\\site-packages (from pandas>=0.19.2->finance_datareader==0.9.1) (2021.1)\n",
      "Requirement already satisfied: python-dateutil>=2.7.3 in c:\\users\\ignis535\\appdata\\local\\programs\\python\\python39\\lib\\site-packages (from pandas>=0.19.2->finance_datareader==0.9.1) (2.8.1)\n",
      "Requirement already satisfied: numpy>=1.17.3 in c:\\users\\ignis535\\appdata\\local\\programs\\python\\python39\\lib\\site-packages (from pandas>=0.19.2->finance_datareader==0.9.1) (1.21.0)\n",
      "Requirement already satisfied: six>=1.5 in c:\\users\\ignis535\\appdata\\local\\programs\\python\\python39\\lib\\site-packages (from python-dateutil>=2.7.3->pandas>=0.19.2->finance_datareader==0.9.1) (1.16.0)\n",
      "Requirement already satisfied: urllib3<1.27,>=1.21.1 in c:\\users\\ignis535\\appdata\\local\\programs\\python\\python39\\lib\\site-packages (from requests>=2.3.0->finance_datareader==0.9.1) (1.26.8)\n",
      "Requirement already satisfied: idna<4,>=2.5 in c:\\users\\ignis535\\appdata\\local\\programs\\python\\python39\\lib\\site-packages (from requests>=2.3.0->finance_datareader==0.9.1) (3.3)\n",
      "Requirement already satisfied: certifi>=2017.4.17 in c:\\users\\ignis535\\appdata\\local\\programs\\python\\python39\\lib\\site-packages (from requests>=2.3.0->finance_datareader==0.9.1) (2021.10.8)\n",
      "Requirement already satisfied: charset-normalizer~=2.0.0 in c:\\users\\ignis535\\appdata\\local\\programs\\python\\python39\\lib\\site-packages (from requests>=2.3.0->finance_datareader==0.9.1) (2.0.12)\n",
      "Installing collected packages: requests-file, lxml, finance-datareader\n",
      "Successfully installed finance-datareader-0.9.1 lxml-4.8.0 requests-file-1.5.1\n"
     ]
    },
    {
     "name": "stderr",
     "output_type": "stream",
     "text": [
      "WARNING: You are using pip version 21.1.3; however, version 22.0.3 is available.\n",
      "You should consider upgrading via the 'c:\\users\\ignis535\\appdata\\local\\programs\\python\\python39\\python.exe -m pip install --upgrade pip' command.\n"
     ]
    }
   ],
   "source": [
    "!pip install finance_datareader==0.9.1"
   ]
  },
  {
   "cell_type": "code",
   "execution_count": 47,
   "id": "7eaf6988",
   "metadata": {},
   "outputs": [
    {
     "name": "stdout",
     "output_type": "stream",
     "text": [
      "Looking in indexes: https://pypi.org/simple, https://pypi.ngc.nvidia.com\n",
      "Collecting BeautifulSoup4\n",
      "  Downloading beautifulsoup4-4.10.0-py3-none-any.whl (97 kB)\n",
      "Collecting soupsieve>1.2\n",
      "  Downloading soupsieve-2.3.1-py3-none-any.whl (37 kB)\n",
      "Installing collected packages: soupsieve, BeautifulSoup4\n",
      "Successfully installed BeautifulSoup4-4.10.0 soupsieve-2.3.1\n"
     ]
    },
    {
     "name": "stderr",
     "output_type": "stream",
     "text": [
      "WARNING: You are using pip version 21.1.3; however, version 22.0.3 is available.\n",
      "You should consider upgrading via the 'c:\\users\\ignis535\\appdata\\local\\programs\\python\\python39\\python.exe -m pip install --upgrade pip' command.\n"
     ]
    }
   ],
   "source": [
    "!pip install BeautifulSoup4"
   ]
  },
  {
   "cell_type": "code",
   "execution_count": 48,
   "id": "e341b424",
   "metadata": {},
   "outputs": [],
   "source": [
    "import FinanceDataReader as fdr"
   ]
  },
  {
   "cell_type": "code",
   "execution_count": 50,
   "id": "0ecc3ad0",
   "metadata": {},
   "outputs": [],
   "source": [
    "# 삼성전자\n",
    "df1 = fdr.DataReader(\"005930\", \"2018-01-02\", \"2018-10-30\")\n",
    "\n",
    "# KODEX 200(ETF)\n",
    "df2 = fdr.DataReader(\"069500\", \"2018-01-03\", \"2018-10-30\")"
   ]
  },
  {
   "cell_type": "code",
   "execution_count": 51,
   "id": "d4b9f03f",
   "metadata": {},
   "outputs": [
    {
     "data": {
      "text/html": [
       "<div>\n",
       "<style scoped>\n",
       "    .dataframe tbody tr th:only-of-type {\n",
       "        vertical-align: middle;\n",
       "    }\n",
       "\n",
       "    .dataframe tbody tr th {\n",
       "        vertical-align: top;\n",
       "    }\n",
       "\n",
       "    .dataframe thead th {\n",
       "        text-align: right;\n",
       "    }\n",
       "</style>\n",
       "<table border=\"1\" class=\"dataframe\">\n",
       "  <thead>\n",
       "    <tr style=\"text-align: right;\">\n",
       "      <th></th>\n",
       "      <th>Open</th>\n",
       "      <th>High</th>\n",
       "      <th>Low</th>\n",
       "      <th>Close</th>\n",
       "      <th>Volume</th>\n",
       "      <th>Change</th>\n",
       "    </tr>\n",
       "    <tr>\n",
       "      <th>Date</th>\n",
       "      <th></th>\n",
       "      <th></th>\n",
       "      <th></th>\n",
       "      <th></th>\n",
       "      <th></th>\n",
       "      <th></th>\n",
       "    </tr>\n",
       "  </thead>\n",
       "  <tbody>\n",
       "    <tr>\n",
       "      <th>2018-01-02</th>\n",
       "      <td>51380</td>\n",
       "      <td>51400</td>\n",
       "      <td>50780</td>\n",
       "      <td>51020</td>\n",
       "      <td>169485</td>\n",
       "      <td>0.001</td>\n",
       "    </tr>\n",
       "    <tr>\n",
       "      <th>2018-01-03</th>\n",
       "      <td>52540</td>\n",
       "      <td>52560</td>\n",
       "      <td>51420</td>\n",
       "      <td>51620</td>\n",
       "      <td>200270</td>\n",
       "      <td>0.012</td>\n",
       "    </tr>\n",
       "  </tbody>\n",
       "</table>\n",
       "</div>"
      ],
      "text/plain": [
       "             Open   High    Low  Close  Volume  Change\n",
       "Date                                                  \n",
       "2018-01-02  51380  51400  50780  51020  169485   0.001\n",
       "2018-01-03  52540  52560  51420  51620  200270   0.012"
      ]
     },
     "execution_count": 51,
     "metadata": {},
     "output_type": "execute_result"
    },
    {
     "data": {
      "text/html": [
       "<div>\n",
       "<style scoped>\n",
       "    .dataframe tbody tr th:only-of-type {\n",
       "        vertical-align: middle;\n",
       "    }\n",
       "\n",
       "    .dataframe tbody tr th {\n",
       "        vertical-align: top;\n",
       "    }\n",
       "\n",
       "    .dataframe thead th {\n",
       "        text-align: right;\n",
       "    }\n",
       "</style>\n",
       "<table border=\"1\" class=\"dataframe\">\n",
       "  <thead>\n",
       "    <tr style=\"text-align: right;\">\n",
       "      <th></th>\n",
       "      <th>Open</th>\n",
       "      <th>High</th>\n",
       "      <th>Low</th>\n",
       "      <th>Close</th>\n",
       "      <th>Volume</th>\n",
       "      <th>Change</th>\n",
       "    </tr>\n",
       "    <tr>\n",
       "      <th>Date</th>\n",
       "      <th></th>\n",
       "      <th></th>\n",
       "      <th></th>\n",
       "      <th></th>\n",
       "      <th></th>\n",
       "      <th></th>\n",
       "    </tr>\n",
       "  </thead>\n",
       "  <tbody>\n",
       "    <tr>\n",
       "      <th>2018-10-29</th>\n",
       "      <td>40850</td>\n",
       "      <td>41950</td>\n",
       "      <td>40550</td>\n",
       "      <td>41400</td>\n",
       "      <td>14460521</td>\n",
       "      <td>0.010</td>\n",
       "    </tr>\n",
       "    <tr>\n",
       "      <th>2018-10-30</th>\n",
       "      <td>41400</td>\n",
       "      <td>43000</td>\n",
       "      <td>41000</td>\n",
       "      <td>42350</td>\n",
       "      <td>14205190</td>\n",
       "      <td>0.023</td>\n",
       "    </tr>\n",
       "  </tbody>\n",
       "</table>\n",
       "</div>"
      ],
      "text/plain": [
       "             Open   High    Low  Close    Volume  Change\n",
       "Date                                                    \n",
       "2018-10-29  40850  41950  40550  41400  14460521   0.010\n",
       "2018-10-30  41400  43000  41000  42350  14205190   0.023"
      ]
     },
     "execution_count": 51,
     "metadata": {},
     "output_type": "execute_result"
    }
   ],
   "source": [
    "df1.head(2)\n",
    "df1.tail(2)"
   ]
  },
  {
   "cell_type": "code",
   "execution_count": 52,
   "id": "9247d94e",
   "metadata": {},
   "outputs": [
    {
     "data": {
      "text/html": [
       "<div>\n",
       "<style scoped>\n",
       "    .dataframe tbody tr th:only-of-type {\n",
       "        vertical-align: middle;\n",
       "    }\n",
       "\n",
       "    .dataframe tbody tr th {\n",
       "        vertical-align: top;\n",
       "    }\n",
       "\n",
       "    .dataframe thead th {\n",
       "        text-align: right;\n",
       "    }\n",
       "</style>\n",
       "<table border=\"1\" class=\"dataframe\">\n",
       "  <thead>\n",
       "    <tr style=\"text-align: right;\">\n",
       "      <th></th>\n",
       "      <th>Open</th>\n",
       "      <th>High</th>\n",
       "      <th>Low</th>\n",
       "      <th>Close</th>\n",
       "      <th>Volume</th>\n",
       "      <th>Change</th>\n",
       "    </tr>\n",
       "    <tr>\n",
       "      <th>Date</th>\n",
       "      <th></th>\n",
       "      <th></th>\n",
       "      <th></th>\n",
       "      <th></th>\n",
       "      <th></th>\n",
       "      <th></th>\n",
       "    </tr>\n",
       "  </thead>\n",
       "  <tbody>\n",
       "    <tr>\n",
       "      <th>2018-01-03</th>\n",
       "      <td>30393</td>\n",
       "      <td>30484</td>\n",
       "      <td>30320</td>\n",
       "      <td>30396</td>\n",
       "      <td>7250553</td>\n",
       "      <td>0.004</td>\n",
       "    </tr>\n",
       "    <tr>\n",
       "      <th>2018-01-04</th>\n",
       "      <td>30567</td>\n",
       "      <td>30582</td>\n",
       "      <td>30145</td>\n",
       "      <td>30156</td>\n",
       "      <td>8914121</td>\n",
       "      <td>-0.008</td>\n",
       "    </tr>\n",
       "  </tbody>\n",
       "</table>\n",
       "</div>"
      ],
      "text/plain": [
       "             Open   High    Low  Close   Volume  Change\n",
       "Date                                                   \n",
       "2018-01-03  30393  30484  30320  30396  7250553   0.004\n",
       "2018-01-04  30567  30582  30145  30156  8914121  -0.008"
      ]
     },
     "execution_count": 52,
     "metadata": {},
     "output_type": "execute_result"
    },
    {
     "data": {
      "text/html": [
       "<div>\n",
       "<style scoped>\n",
       "    .dataframe tbody tr th:only-of-type {\n",
       "        vertical-align: middle;\n",
       "    }\n",
       "\n",
       "    .dataframe tbody tr th {\n",
       "        vertical-align: top;\n",
       "    }\n",
       "\n",
       "    .dataframe thead th {\n",
       "        text-align: right;\n",
       "    }\n",
       "</style>\n",
       "<table border=\"1\" class=\"dataframe\">\n",
       "  <thead>\n",
       "    <tr style=\"text-align: right;\">\n",
       "      <th></th>\n",
       "      <th>Open</th>\n",
       "      <th>High</th>\n",
       "      <th>Low</th>\n",
       "      <th>Close</th>\n",
       "      <th>Volume</th>\n",
       "      <th>Change</th>\n",
       "    </tr>\n",
       "    <tr>\n",
       "      <th>Date</th>\n",
       "      <th></th>\n",
       "      <th></th>\n",
       "      <th></th>\n",
       "      <th></th>\n",
       "      <th></th>\n",
       "      <th></th>\n",
       "    </tr>\n",
       "  </thead>\n",
       "  <tbody>\n",
       "    <tr>\n",
       "      <th>2018-10-29</th>\n",
       "      <td>24742</td>\n",
       "      <td>24906</td>\n",
       "      <td>24410</td>\n",
       "      <td>24459</td>\n",
       "      <td>5301352</td>\n",
       "      <td>-0.008</td>\n",
       "    </tr>\n",
       "    <tr>\n",
       "      <th>2018-10-30</th>\n",
       "      <td>24424</td>\n",
       "      <td>24847</td>\n",
       "      <td>24336</td>\n",
       "      <td>24628</td>\n",
       "      <td>8010749</td>\n",
       "      <td>0.007</td>\n",
       "    </tr>\n",
       "  </tbody>\n",
       "</table>\n",
       "</div>"
      ],
      "text/plain": [
       "             Open   High    Low  Close   Volume  Change\n",
       "Date                                                   \n",
       "2018-10-29  24742  24906  24410  24459  5301352  -0.008\n",
       "2018-10-30  24424  24847  24336  24628  8010749   0.007"
      ]
     },
     "execution_count": 52,
     "metadata": {},
     "output_type": "execute_result"
    }
   ],
   "source": [
    "df2.head(2)\n",
    "df2.tail(2)"
   ]
  },
  {
   "cell_type": "code",
   "execution_count": 65,
   "id": "a2679cc6",
   "metadata": {},
   "outputs": [],
   "source": [
    "# 삼성전자\n",
    "df1 = fdr.DataReader(\"005930\", \"2018-01-02\", \"2018-10-30\")\n",
    "\n",
    "# KODEX 200(ETF)\n",
    "df2 = fdr.DataReader(\"069500\", \"2018-01-02\", \"2018-10-30\")"
   ]
  },
  {
   "cell_type": "code",
   "execution_count": 66,
   "id": "e7e4372d",
   "metadata": {},
   "outputs": [
    {
     "data": {
      "text/plain": [
       "(202, 6)"
      ]
     },
     "execution_count": 66,
     "metadata": {},
     "output_type": "execute_result"
    },
    {
     "data": {
      "text/plain": [
       "(202, 6)"
      ]
     },
     "execution_count": 66,
     "metadata": {},
     "output_type": "execute_result"
    }
   ],
   "source": [
    "df1.shape\n",
    "df2.shape"
   ]
  },
  {
   "cell_type": "code",
   "execution_count": null,
   "id": "6679f4be",
   "metadata": {},
   "outputs": [],
   "source": [
    "df2 = df2.drop(pd.to_datetime(\"2018-01-03\"))"
   ]
  },
  {
   "cell_type": "code",
   "execution_count": 71,
   "id": "e659aadc",
   "metadata": {},
   "outputs": [
    {
     "data": {
      "text/html": [
       "<div>\n",
       "<style scoped>\n",
       "    .dataframe tbody tr th:only-of-type {\n",
       "        vertical-align: middle;\n",
       "    }\n",
       "\n",
       "    .dataframe tbody tr th {\n",
       "        vertical-align: top;\n",
       "    }\n",
       "\n",
       "    .dataframe thead th {\n",
       "        text-align: right;\n",
       "    }\n",
       "</style>\n",
       "<table border=\"1\" class=\"dataframe\">\n",
       "  <thead>\n",
       "    <tr style=\"text-align: right;\">\n",
       "      <th></th>\n",
       "      <th>Open</th>\n",
       "      <th>High</th>\n",
       "      <th>Low</th>\n",
       "      <th>Close</th>\n",
       "      <th>Volume</th>\n",
       "      <th>Change</th>\n",
       "    </tr>\n",
       "    <tr>\n",
       "      <th>Date</th>\n",
       "      <th></th>\n",
       "      <th></th>\n",
       "      <th></th>\n",
       "      <th></th>\n",
       "      <th></th>\n",
       "      <th></th>\n",
       "    </tr>\n",
       "  </thead>\n",
       "  <tbody>\n",
       "    <tr>\n",
       "      <th>2018-01-02</th>\n",
       "      <td>30245</td>\n",
       "      <td>30334</td>\n",
       "      <td>30150</td>\n",
       "      <td>30267</td>\n",
       "      <td>5016257</td>\n",
       "      <td>0.004</td>\n",
       "    </tr>\n",
       "    <tr>\n",
       "      <th>2018-01-04</th>\n",
       "      <td>30567</td>\n",
       "      <td>30582</td>\n",
       "      <td>30145</td>\n",
       "      <td>30156</td>\n",
       "      <td>8914121</td>\n",
       "      <td>-0.008</td>\n",
       "    </tr>\n",
       "    <tr>\n",
       "      <th>2018-01-05</th>\n",
       "      <td>30232</td>\n",
       "      <td>30558</td>\n",
       "      <td>30232</td>\n",
       "      <td>30566</td>\n",
       "      <td>8121543</td>\n",
       "      <td>0.014</td>\n",
       "    </tr>\n",
       "    <tr>\n",
       "      <th>2018-01-08</th>\n",
       "      <td>30687</td>\n",
       "      <td>30815</td>\n",
       "      <td>30517</td>\n",
       "      <td>30771</td>\n",
       "      <td>8023240</td>\n",
       "      <td>0.007</td>\n",
       "    </tr>\n",
       "    <tr>\n",
       "      <th>2018-01-09</th>\n",
       "      <td>30678</td>\n",
       "      <td>30898</td>\n",
       "      <td>30512</td>\n",
       "      <td>30650</td>\n",
       "      <td>7970365</td>\n",
       "      <td>-0.004</td>\n",
       "    </tr>\n",
       "    <tr>\n",
       "      <th>...</th>\n",
       "      <td>...</td>\n",
       "      <td>...</td>\n",
       "      <td>...</td>\n",
       "      <td>...</td>\n",
       "      <td>...</td>\n",
       "      <td>...</td>\n",
       "    </tr>\n",
       "    <tr>\n",
       "      <th>2018-10-24</th>\n",
       "      <td>25722</td>\n",
       "      <td>25744</td>\n",
       "      <td>25415</td>\n",
       "      <td>25462</td>\n",
       "      <td>12097024</td>\n",
       "      <td>-0.005</td>\n",
       "    </tr>\n",
       "    <tr>\n",
       "      <th>2018-10-25</th>\n",
       "      <td>24930</td>\n",
       "      <td>25065</td>\n",
       "      <td>24689</td>\n",
       "      <td>25056</td>\n",
       "      <td>11679604</td>\n",
       "      <td>-0.016</td>\n",
       "    </tr>\n",
       "    <tr>\n",
       "      <th>2018-10-26</th>\n",
       "      <td>25079</td>\n",
       "      <td>25084</td>\n",
       "      <td>24433</td>\n",
       "      <td>24658</td>\n",
       "      <td>8230431</td>\n",
       "      <td>-0.016</td>\n",
       "    </tr>\n",
       "    <tr>\n",
       "      <th>2018-10-29</th>\n",
       "      <td>24742</td>\n",
       "      <td>24906</td>\n",
       "      <td>24410</td>\n",
       "      <td>24459</td>\n",
       "      <td>5301352</td>\n",
       "      <td>-0.008</td>\n",
       "    </tr>\n",
       "    <tr>\n",
       "      <th>2018-10-30</th>\n",
       "      <td>24424</td>\n",
       "      <td>24847</td>\n",
       "      <td>24336</td>\n",
       "      <td>24628</td>\n",
       "      <td>8010749</td>\n",
       "      <td>0.007</td>\n",
       "    </tr>\n",
       "  </tbody>\n",
       "</table>\n",
       "<p>201 rows × 6 columns</p>\n",
       "</div>"
      ],
      "text/plain": [
       "             Open   High    Low  Close    Volume  Change\n",
       "Date                                                    \n",
       "2018-01-02  30245  30334  30150  30267   5016257   0.004\n",
       "2018-01-04  30567  30582  30145  30156   8914121  -0.008\n",
       "2018-01-05  30232  30558  30232  30566   8121543   0.014\n",
       "2018-01-08  30687  30815  30517  30771   8023240   0.007\n",
       "2018-01-09  30678  30898  30512  30650   7970365  -0.004\n",
       "...           ...    ...    ...    ...       ...     ...\n",
       "2018-10-24  25722  25744  25415  25462  12097024  -0.005\n",
       "2018-10-25  24930  25065  24689  25056  11679604  -0.016\n",
       "2018-10-26  25079  25084  24433  24658   8230431  -0.016\n",
       "2018-10-29  24742  24906  24410  24459   5301352  -0.008\n",
       "2018-10-30  24424  24847  24336  24628   8010749   0.007\n",
       "\n",
       "[201 rows x 6 columns]"
      ]
     },
     "execution_count": 71,
     "metadata": {},
     "output_type": "execute_result"
    }
   ],
   "source": [
    "df2"
   ]
  },
  {
   "cell_type": "code",
   "execution_count": 72,
   "id": "c70fa7e5",
   "metadata": {},
   "outputs": [
    {
     "data": {
      "text/html": [
       "<div>\n",
       "<style scoped>\n",
       "    .dataframe tbody tr th:only-of-type {\n",
       "        vertical-align: middle;\n",
       "    }\n",
       "\n",
       "    .dataframe tbody tr th {\n",
       "        vertical-align: top;\n",
       "    }\n",
       "\n",
       "    .dataframe thead th {\n",
       "        text-align: right;\n",
       "    }\n",
       "</style>\n",
       "<table border=\"1\" class=\"dataframe\">\n",
       "  <thead>\n",
       "    <tr style=\"text-align: right;\">\n",
       "      <th></th>\n",
       "      <th>Open</th>\n",
       "      <th>High</th>\n",
       "      <th>Low</th>\n",
       "      <th>Close</th>\n",
       "      <th>Volume</th>\n",
       "      <th>Change</th>\n",
       "    </tr>\n",
       "    <tr>\n",
       "      <th>Date</th>\n",
       "      <th></th>\n",
       "      <th></th>\n",
       "      <th></th>\n",
       "      <th></th>\n",
       "      <th></th>\n",
       "      <th></th>\n",
       "    </tr>\n",
       "  </thead>\n",
       "  <tbody>\n",
       "    <tr>\n",
       "      <th>2018-01-02</th>\n",
       "      <td>30245.000</td>\n",
       "      <td>30334.000</td>\n",
       "      <td>30150.000</td>\n",
       "      <td>30267.000</td>\n",
       "      <td>5016257.000</td>\n",
       "      <td>0.004</td>\n",
       "    </tr>\n",
       "    <tr>\n",
       "      <th>2018-01-03</th>\n",
       "      <td>NaN</td>\n",
       "      <td>NaN</td>\n",
       "      <td>NaN</td>\n",
       "      <td>NaN</td>\n",
       "      <td>NaN</td>\n",
       "      <td>NaN</td>\n",
       "    </tr>\n",
       "    <tr>\n",
       "      <th>2018-01-04</th>\n",
       "      <td>30567.000</td>\n",
       "      <td>30582.000</td>\n",
       "      <td>30145.000</td>\n",
       "      <td>30156.000</td>\n",
       "      <td>8914121.000</td>\n",
       "      <td>-0.008</td>\n",
       "    </tr>\n",
       "    <tr>\n",
       "      <th>2018-01-05</th>\n",
       "      <td>30232.000</td>\n",
       "      <td>30558.000</td>\n",
       "      <td>30232.000</td>\n",
       "      <td>30566.000</td>\n",
       "      <td>8121543.000</td>\n",
       "      <td>0.014</td>\n",
       "    </tr>\n",
       "    <tr>\n",
       "      <th>2018-01-08</th>\n",
       "      <td>30687.000</td>\n",
       "      <td>30815.000</td>\n",
       "      <td>30517.000</td>\n",
       "      <td>30771.000</td>\n",
       "      <td>8023240.000</td>\n",
       "      <td>0.007</td>\n",
       "    </tr>\n",
       "  </tbody>\n",
       "</table>\n",
       "</div>"
      ],
      "text/plain": [
       "                Open      High       Low     Close      Volume  Change\n",
       "Date                                                                  \n",
       "2018-01-02 30245.000 30334.000 30150.000 30267.000 5016257.000   0.004\n",
       "2018-01-03       NaN       NaN       NaN       NaN         NaN     NaN\n",
       "2018-01-04 30567.000 30582.000 30145.000 30156.000 8914121.000  -0.008\n",
       "2018-01-05 30232.000 30558.000 30232.000 30566.000 8121543.000   0.014\n",
       "2018-01-08 30687.000 30815.000 30517.000 30771.000 8023240.000   0.007"
      ]
     },
     "execution_count": 72,
     "metadata": {},
     "output_type": "execute_result"
    }
   ],
   "source": [
    "new_df2 = df2.reindex(df1.index)\n",
    "new_df2.head()"
   ]
  },
  {
   "cell_type": "code",
   "execution_count": 73,
   "id": "3f45dbf0",
   "metadata": {},
   "outputs": [
    {
     "data": {
      "text/html": [
       "<div>\n",
       "<style scoped>\n",
       "    .dataframe tbody tr th:only-of-type {\n",
       "        vertical-align: middle;\n",
       "    }\n",
       "\n",
       "    .dataframe tbody tr th {\n",
       "        vertical-align: top;\n",
       "    }\n",
       "\n",
       "    .dataframe thead th {\n",
       "        text-align: right;\n",
       "    }\n",
       "</style>\n",
       "<table border=\"1\" class=\"dataframe\">\n",
       "  <thead>\n",
       "    <tr style=\"text-align: right;\">\n",
       "      <th></th>\n",
       "      <th>Open</th>\n",
       "      <th>High</th>\n",
       "      <th>Low</th>\n",
       "      <th>Close</th>\n",
       "      <th>Volume</th>\n",
       "      <th>Change</th>\n",
       "    </tr>\n",
       "    <tr>\n",
       "      <th>Date</th>\n",
       "      <th></th>\n",
       "      <th></th>\n",
       "      <th></th>\n",
       "      <th></th>\n",
       "      <th></th>\n",
       "      <th></th>\n",
       "    </tr>\n",
       "  </thead>\n",
       "  <tbody>\n",
       "    <tr>\n",
       "      <th>2018-01-02</th>\n",
       "      <td>30245.000</td>\n",
       "      <td>30334.000</td>\n",
       "      <td>30150.000</td>\n",
       "      <td>30267.000</td>\n",
       "      <td>5016257.000</td>\n",
       "      <td>0.004</td>\n",
       "    </tr>\n",
       "    <tr>\n",
       "      <th>2018-01-03</th>\n",
       "      <td>30245.000</td>\n",
       "      <td>30334.000</td>\n",
       "      <td>30150.000</td>\n",
       "      <td>30267.000</td>\n",
       "      <td>5016257.000</td>\n",
       "      <td>0.004</td>\n",
       "    </tr>\n",
       "    <tr>\n",
       "      <th>2018-01-04</th>\n",
       "      <td>30567.000</td>\n",
       "      <td>30582.000</td>\n",
       "      <td>30145.000</td>\n",
       "      <td>30156.000</td>\n",
       "      <td>8914121.000</td>\n",
       "      <td>-0.008</td>\n",
       "    </tr>\n",
       "    <tr>\n",
       "      <th>2018-01-05</th>\n",
       "      <td>30232.000</td>\n",
       "      <td>30558.000</td>\n",
       "      <td>30232.000</td>\n",
       "      <td>30566.000</td>\n",
       "      <td>8121543.000</td>\n",
       "      <td>0.014</td>\n",
       "    </tr>\n",
       "    <tr>\n",
       "      <th>2018-01-08</th>\n",
       "      <td>30687.000</td>\n",
       "      <td>30815.000</td>\n",
       "      <td>30517.000</td>\n",
       "      <td>30771.000</td>\n",
       "      <td>8023240.000</td>\n",
       "      <td>0.007</td>\n",
       "    </tr>\n",
       "    <tr>\n",
       "      <th>...</th>\n",
       "      <td>...</td>\n",
       "      <td>...</td>\n",
       "      <td>...</td>\n",
       "      <td>...</td>\n",
       "      <td>...</td>\n",
       "      <td>...</td>\n",
       "    </tr>\n",
       "    <tr>\n",
       "      <th>2018-10-24</th>\n",
       "      <td>25722.000</td>\n",
       "      <td>25744.000</td>\n",
       "      <td>25415.000</td>\n",
       "      <td>25462.000</td>\n",
       "      <td>12097024.000</td>\n",
       "      <td>-0.005</td>\n",
       "    </tr>\n",
       "    <tr>\n",
       "      <th>2018-10-25</th>\n",
       "      <td>24930.000</td>\n",
       "      <td>25065.000</td>\n",
       "      <td>24689.000</td>\n",
       "      <td>25056.000</td>\n",
       "      <td>11679604.000</td>\n",
       "      <td>-0.016</td>\n",
       "    </tr>\n",
       "    <tr>\n",
       "      <th>2018-10-26</th>\n",
       "      <td>25079.000</td>\n",
       "      <td>25084.000</td>\n",
       "      <td>24433.000</td>\n",
       "      <td>24658.000</td>\n",
       "      <td>8230431.000</td>\n",
       "      <td>-0.016</td>\n",
       "    </tr>\n",
       "    <tr>\n",
       "      <th>2018-10-29</th>\n",
       "      <td>24742.000</td>\n",
       "      <td>24906.000</td>\n",
       "      <td>24410.000</td>\n",
       "      <td>24459.000</td>\n",
       "      <td>5301352.000</td>\n",
       "      <td>-0.008</td>\n",
       "    </tr>\n",
       "    <tr>\n",
       "      <th>2018-10-30</th>\n",
       "      <td>24424.000</td>\n",
       "      <td>24847.000</td>\n",
       "      <td>24336.000</td>\n",
       "      <td>24628.000</td>\n",
       "      <td>8010749.000</td>\n",
       "      <td>0.007</td>\n",
       "    </tr>\n",
       "  </tbody>\n",
       "</table>\n",
       "<p>202 rows × 6 columns</p>\n",
       "</div>"
      ],
      "text/plain": [
       "                Open      High       Low     Close       Volume  Change\n",
       "Date                                                                   \n",
       "2018-01-02 30245.000 30334.000 30150.000 30267.000  5016257.000   0.004\n",
       "2018-01-03 30245.000 30334.000 30150.000 30267.000  5016257.000   0.004\n",
       "2018-01-04 30567.000 30582.000 30145.000 30156.000  8914121.000  -0.008\n",
       "2018-01-05 30232.000 30558.000 30232.000 30566.000  8121543.000   0.014\n",
       "2018-01-08 30687.000 30815.000 30517.000 30771.000  8023240.000   0.007\n",
       "...              ...       ...       ...       ...          ...     ...\n",
       "2018-10-24 25722.000 25744.000 25415.000 25462.000 12097024.000  -0.005\n",
       "2018-10-25 24930.000 25065.000 24689.000 25056.000 11679604.000  -0.016\n",
       "2018-10-26 25079.000 25084.000 24433.000 24658.000  8230431.000  -0.016\n",
       "2018-10-29 24742.000 24906.000 24410.000 24459.000  5301352.000  -0.008\n",
       "2018-10-30 24424.000 24847.000 24336.000 24628.000  8010749.000   0.007\n",
       "\n",
       "[202 rows x 6 columns]"
      ]
     },
     "execution_count": 73,
     "metadata": {},
     "output_type": "execute_result"
    }
   ],
   "source": [
    "new_df2.fillna(method = \"ffill\")"
   ]
  }
 ],
 "metadata": {
  "kernelspec": {
   "display_name": "Python 3 (ipykernel)",
   "language": "python",
   "name": "python3"
  },
  "language_info": {
   "codemirror_mode": {
    "name": "ipython",
    "version": 3
   },
   "file_extension": ".py",
   "mimetype": "text/x-python",
   "name": "python",
   "nbconvert_exporter": "python",
   "pygments_lexer": "ipython3",
   "version": "3.9.2"
  }
 },
 "nbformat": 4,
 "nbformat_minor": 5
}
